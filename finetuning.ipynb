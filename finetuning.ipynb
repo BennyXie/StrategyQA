{
 "cells": [
  {
   "cell_type": "code",
   "execution_count": 26,
   "metadata": {},
   "outputs": [],
   "source": [
    "from dataclasses import dataclass\n",
    "from typing import List, Tuple\n",
    "\n",
    "import torch\n",
    "from torch.utils.data import Dataset, DataLoader\n",
    "from transformers import PreTrainedTokenizerFast, AutoTokenizer\n",
    "from datasets import load_dataset\n",
    "from transformers import RobertaTokenizer"
   ]
  },
  {
   "cell_type": "code",
   "execution_count": 24,
   "metadata": {},
   "outputs": [
    {
     "name": "stdout",
     "output_type": "stream",
     "text": [
      "DatasetDict({\n",
      "    train: Dataset({\n",
      "        features: ['qid', 'term', 'description', 'question', 'answer'],\n",
      "        num_rows: 2821\n",
      "    })\n",
      "    test: Dataset({\n",
      "        features: ['qid', 'term', 'description', 'question', 'answer'],\n",
      "        num_rows: 490\n",
      "    })\n",
      "})\n",
      "{'qid': '872', 'term': 'Swastika', 'description': 'a geometrical figure and an ancient religious icon in the cultures of Eurasia and 20th-century symbol of Nazism', 'question': 'Did the Hopi Indians use a symbol that was similar to the swastika?', 'answer': True}\n",
      "Did the Hopi Indians use a symbol that was similar to the swastika?\n",
      "True\n",
      "{'qid': '564959490dd0b8316a88', 'term': None, 'description': None, 'question': 'can you use Microsoft Office without internet?', 'answer': None}\n",
      "can you use Microsoft Office without internet?\n"
     ]
    }
   ],
   "source": [
    "# load dataset from datasets/strategyqa_train_filtered.json\n",
    "dataset = load_dataset(\"json\", data_files={\"train\": \"datasets/strategyqa_train_filtered.json\", \"test\": \"datasets/strategyqa_test.json\"})\n",
    "train_dataset = dataset[\"train\"]\n",
    "test_dataset = dataset[\"test\"]\n",
    "\n",
    "print(dataset)\n",
    "print(train_dataset[0])\n",
    "print(train_dataset[0]['question'])\n",
    "print(train_dataset[0]['answer'])\n",
    "print(test_dataset[0])\n",
    "print(test_dataset[0]['question'])"
   ]
  },
  {
   "cell_type": "code",
   "execution_count": 27,
   "metadata": {},
   "outputs": [],
   "source": [
    "# load tokenizer\n",
    "tokenizer = RobertaTokenizer.from_pretrained(\"roberta-base\")"
   ]
  }
 ],
 "metadata": {
  "kernelspec": {
   "display_name": "Python 3",
   "language": "python",
   "name": "python3"
  },
  "language_info": {
   "codemirror_mode": {
    "name": "ipython",
    "version": 3
   },
   "file_extension": ".py",
   "mimetype": "text/x-python",
   "name": "python",
   "nbconvert_exporter": "python",
   "pygments_lexer": "ipython3",
   "version": "3.12.2"
  }
 },
 "nbformat": 4,
 "nbformat_minor": 2
}
